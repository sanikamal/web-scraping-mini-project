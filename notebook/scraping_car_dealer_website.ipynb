{
 "cells": [
  {
   "cell_type": "markdown",
   "metadata": {
    "id": "9op_LzpAdDZ4"
   },
   "source": [
    "# Web Scraping a Car Dealer Website\n",
    "\n"
   ]
  },
  {
   "cell_type": "markdown",
   "metadata": {
    "id": "XxVPTfMuc_35"
   },
   "source": [
    "### Imports"
   ]
  },
  {
   "cell_type": "code",
   "execution_count": 1,
   "metadata": {
    "id": "NpkM-38Bc_3-"
   },
   "outputs": [],
   "source": [
    "from bs4 import BeautifulSoup\n",
    "import requests\n",
    "import pandas as pd "
   ]
  },
  {
   "cell_type": "markdown",
   "metadata": {
    "id": "EjShL0OWc_4C"
   },
   "source": [
    "### HTTP Request"
   ]
  },
  {
   "cell_type": "markdown",
   "metadata": {
    "id": "ZbiOraa5c_4F"
   },
   "source": [
    "#### store website in variable"
   ]
  },
  {
   "cell_type": "code",
   "execution_count": 2,
   "metadata": {
    "id": "fOJrZtDSc_4G"
   },
   "outputs": [],
   "source": [
    "website = 'https://www.cars.com/shopping/results/?stock_type=cpo&makes%5B%5D=mercedes_benz&models%5B%5D=&list_price_max=&maximum_distance=20&zip='"
   ]
  },
  {
   "cell_type": "markdown",
   "metadata": {
    "id": "wPu-oPKkc_4I"
   },
   "source": [
    "#### Get Request"
   ]
  },
  {
   "cell_type": "code",
   "execution_count": 3,
   "metadata": {
    "id": "k-VExJIbc_4J"
   },
   "outputs": [],
   "source": [
    "response = requests.get(website)"
   ]
  },
  {
   "cell_type": "markdown",
   "metadata": {
    "id": "5uOO-6A7c_4L"
   },
   "source": [
    "#### Status Code"
   ]
  },
  {
   "cell_type": "code",
   "execution_count": 4,
   "metadata": {
    "colab": {
     "base_uri": "https://localhost:8080/"
    },
    "id": "eEaCmqe0c_4M",
    "outputId": "569da431-ea32-4608-b924-0f1d72a418fa"
   },
   "outputs": [
    {
     "data": {
      "text/plain": [
       "200"
      ]
     },
     "execution_count": 4,
     "metadata": {},
     "output_type": "execute_result"
    }
   ],
   "source": [
    "response.status_code"
   ]
  },
  {
   "cell_type": "markdown",
   "metadata": {
    "id": "O62vOMEJc_4Q"
   },
   "source": [
    "### Soup Object"
   ]
  },
  {
   "cell_type": "code",
   "execution_count": 5,
   "metadata": {
    "id": "uX-BVyS4c_4R"
   },
   "outputs": [],
   "source": [
    "soup = BeautifulSoup(response.content, 'html.parser')"
   ]
  },
  {
   "cell_type": "markdown",
   "metadata": {
    "id": "Lv87-Xhxc_4T"
   },
   "source": [
    "### Results"
   ]
  },
  {
   "cell_type": "code",
   "execution_count": 6,
   "metadata": {
    "id": "pLmky-x0c_4U"
   },
   "outputs": [],
   "source": [
    "results = soup.find_all('div', {'class' : 'vehicle-card'})"
   ]
  },
  {
   "cell_type": "code",
   "execution_count": 7,
   "metadata": {
    "colab": {
     "base_uri": "https://localhost:8080/"
    },
    "id": "MCCURzF6c_4W",
    "outputId": "ec32ba59-4ef5-4f36-9cdb-0a16635001f8"
   },
   "outputs": [
    {
     "data": {
      "text/plain": [
       "20"
      ]
     },
     "execution_count": 7,
     "metadata": {},
     "output_type": "execute_result"
    }
   ],
   "source": [
    "len(results)"
   ]
  },
  {
   "cell_type": "markdown",
   "metadata": {
    "id": "XqpXptwzc_4X"
   },
   "source": [
    "### Target necessary data"
   ]
  },
  {
   "cell_type": "code",
   "execution_count": 8,
   "metadata": {
    "id": "n9KC_Gs8c_4X"
   },
   "outputs": [],
   "source": [
    "# Name\n",
    "# Mileage\n",
    "# Dealer Name\n",
    "# Rating\n",
    "# Rating Count\n",
    "# Price"
   ]
  },
  {
   "cell_type": "markdown",
   "metadata": {
    "id": "2kE9Hwgqc_4Y"
   },
   "source": [
    "#### Name"
   ]
  },
  {
   "cell_type": "code",
   "execution_count": 9,
   "metadata": {
    "colab": {
     "base_uri": "https://localhost:8080/",
     "height": 35
    },
    "id": "2bCk7KO5c_4a",
    "outputId": "3907bea1-be12-4656-f8e3-f16563fafbb4"
   },
   "outputs": [
    {
     "data": {
      "application/vnd.google.colaboratory.intrinsic+json": {
       "type": "string"
      },
      "text/plain": [
       "'2019 Mercedes-Benz C-Class C 300'"
      ]
     },
     "execution_count": 9,
     "metadata": {},
     "output_type": "execute_result"
    }
   ],
   "source": [
    "results[0].find('h2').get_text()"
   ]
  },
  {
   "cell_type": "markdown",
   "metadata": {
    "id": "L73XcSe2c_4c"
   },
   "source": [
    "#### Mileage"
   ]
  },
  {
   "cell_type": "code",
   "execution_count": 10,
   "metadata": {
    "colab": {
     "base_uri": "https://localhost:8080/",
     "height": 35
    },
    "id": "sF_8vKouc_4d",
    "outputId": "a8cbfbd0-898e-4e4a-87e7-ea864d95decd"
   },
   "outputs": [
    {
     "data": {
      "application/vnd.google.colaboratory.intrinsic+json": {
       "type": "string"
      },
      "text/plain": [
       "'15,174 mi.'"
      ]
     },
     "execution_count": 10,
     "metadata": {},
     "output_type": "execute_result"
    }
   ],
   "source": [
    "results[0].find('div', {'class':'mileage'}).get_text()"
   ]
  },
  {
   "cell_type": "markdown",
   "metadata": {
    "id": "KAvrb6wGc_4e"
   },
   "source": [
    "#### Dealer Name"
   ]
  },
  {
   "cell_type": "code",
   "execution_count": 11,
   "metadata": {
    "colab": {
     "base_uri": "https://localhost:8080/",
     "height": 35
    },
    "id": "roc-WVCMc_4e",
    "outputId": "819ce40a-11f8-4c4d-a05e-39f58d5db933"
   },
   "outputs": [
    {
     "data": {
      "application/vnd.google.colaboratory.intrinsic+json": {
       "type": "string"
      },
      "text/plain": [
       "'Mercedes-Benz of San Jose'"
      ]
     },
     "execution_count": 11,
     "metadata": {},
     "output_type": "execute_result"
    }
   ],
   "source": [
    "results[0].find('div', {'class':'dealer-name'}).get_text().strip()"
   ]
  },
  {
   "cell_type": "markdown",
   "metadata": {
    "id": "T8tPQkjWc_4g"
   },
   "source": [
    "#### Rating"
   ]
  },
  {
   "cell_type": "code",
   "execution_count": 12,
   "metadata": {
    "colab": {
     "base_uri": "https://localhost:8080/",
     "height": 35
    },
    "id": "DJ7Wzt4tc_4g",
    "outputId": "deb0bf3f-2648-4276-ad0d-892f5423ad94"
   },
   "outputs": [
    {
     "data": {
      "application/vnd.google.colaboratory.intrinsic+json": {
       "type": "string"
      },
      "text/plain": [
       "'4.6'"
      ]
     },
     "execution_count": 12,
     "metadata": {},
     "output_type": "execute_result"
    }
   ],
   "source": [
    "results[0].find('span', {'class':'sds-rating__count'}).get_text()"
   ]
  },
  {
   "cell_type": "markdown",
   "metadata": {
    "id": "2h09Wl68c_4h"
   },
   "source": [
    "#### Review Count"
   ]
  },
  {
   "cell_type": "code",
   "execution_count": 13,
   "metadata": {
    "colab": {
     "base_uri": "https://localhost:8080/",
     "height": 35
    },
    "id": "xVb_b_nCc_4i",
    "outputId": "1fa92231-762c-4b8a-bb09-0e6699c7e2c1"
   },
   "outputs": [
    {
     "data": {
      "application/vnd.google.colaboratory.intrinsic+json": {
       "type": "string"
      },
      "text/plain": [
       "'(599 reviews)'"
      ]
     },
     "execution_count": 13,
     "metadata": {},
     "output_type": "execute_result"
    }
   ],
   "source": [
    "results[0].find('span', {'class':'sds-rating__link'}).get_text()"
   ]
  },
  {
   "cell_type": "markdown",
   "metadata": {
    "id": "VEJDf9vgc_4j"
   },
   "source": [
    "#### Price"
   ]
  },
  {
   "cell_type": "code",
   "execution_count": 14,
   "metadata": {
    "colab": {
     "base_uri": "https://localhost:8080/",
     "height": 35
    },
    "id": "hhRnZ9jMc_4k",
    "outputId": "8bde452d-147c-42c7-c2e7-a9421e4f927f"
   },
   "outputs": [
    {
     "data": {
      "application/vnd.google.colaboratory.intrinsic+json": {
       "type": "string"
      },
      "text/plain": [
       "'$34,952'"
      ]
     },
     "execution_count": 14,
     "metadata": {},
     "output_type": "execute_result"
    }
   ],
   "source": [
    "results[0].find('span', {'class':'primary-price'}).get_text()"
   ]
  },
  {
   "cell_type": "markdown",
   "metadata": {
    "id": "ruAX79UEc_4k"
   },
   "source": [
    "### Put everything together inside a For-Loop"
   ]
  },
  {
   "cell_type": "code",
   "execution_count": 15,
   "metadata": {
    "id": "sXouQXyJc_4l"
   },
   "outputs": [],
   "source": [
    "name = []\n",
    "mileage = []\n",
    "dealer_name = []\n",
    "rating = []\n",
    "review_count = []\n",
    "price = []\n",
    "\n",
    "for result in results:\n",
    "    \n",
    "    # name\n",
    "    try:\n",
    "        name.append(result.find('h2').get_text()) \n",
    "    except:\n",
    "        name.append('n/a')\n",
    "    \n",
    "    # mileage\n",
    "    try:\n",
    "        mileage.append(result.find('div', {'class':'mileage'}).get_text())\n",
    "    except:\n",
    "        mileage.append('n/a')\n",
    "    \n",
    "    # dealer_name\n",
    "    try:\n",
    "        dealer_name.append(result.find('div', {'class':'dealer-name'}).get_text().strip())\n",
    "    except:\n",
    "        dealer_name.append('n/a')\n",
    "        \n",
    "    # rating\n",
    "    try:\n",
    "        rating.append(result.find('span', {'class':'sds-rating__count'}).get_text())\n",
    "    except:\n",
    "        rating.append('n/a')\n",
    "    \n",
    "    # review_count\n",
    "    try:\n",
    "        review_count.append(result.find('span', {'class':'sds-rating__link'}).get_text())\n",
    "    except:\n",
    "        review_count.append('n/a')\n",
    "    \n",
    "    #price \n",
    "    try:\n",
    "        price.append(result.find('span', {'class':'primary-price'}).get_text())\n",
    "    except:\n",
    "        price.append('n/a')"
   ]
  },
  {
   "cell_type": "markdown",
   "metadata": {
    "id": "hbIBDTFjc_4m"
   },
   "source": [
    "### Create Pandas Dataframe"
   ]
  },
  {
   "cell_type": "code",
   "execution_count": 16,
   "metadata": {
    "id": "b8J1_eTec_4n"
   },
   "outputs": [],
   "source": [
    "# dictionary\n",
    "car_dealer = pd.DataFrame({'Name': name, 'Mileage':mileage, 'Dealer Name':dealer_name,\n",
    "                                'Rating': rating, 'Review Count': review_count, 'Price': price})"
   ]
  },
  {
   "cell_type": "code",
   "execution_count": 17,
   "metadata": {
    "colab": {
     "base_uri": "https://localhost:8080/",
     "height": 677
    },
    "id": "Th26neF-c_4o",
    "outputId": "7d09431f-e655-437a-ec61-c8ff206ad462"
   },
   "outputs": [
    {
     "data": {
      "text/html": [
       "\n",
       "  <div id=\"df-f8c38ec7-700f-46f5-9930-c0296eded094\">\n",
       "    <div class=\"colab-df-container\">\n",
       "      <div>\n",
       "<style scoped>\n",
       "    .dataframe tbody tr th:only-of-type {\n",
       "        vertical-align: middle;\n",
       "    }\n",
       "\n",
       "    .dataframe tbody tr th {\n",
       "        vertical-align: top;\n",
       "    }\n",
       "\n",
       "    .dataframe thead th {\n",
       "        text-align: right;\n",
       "    }\n",
       "</style>\n",
       "<table border=\"1\" class=\"dataframe\">\n",
       "  <thead>\n",
       "    <tr style=\"text-align: right;\">\n",
       "      <th></th>\n",
       "      <th>Name</th>\n",
       "      <th>Mileage</th>\n",
       "      <th>Dealer Name</th>\n",
       "      <th>Rating</th>\n",
       "      <th>Review Count</th>\n",
       "      <th>Price</th>\n",
       "    </tr>\n",
       "  </thead>\n",
       "  <tbody>\n",
       "    <tr>\n",
       "      <th>0</th>\n",
       "      <td>2019 Mercedes-Benz C-Class C 300</td>\n",
       "      <td>15,174 mi.</td>\n",
       "      <td>Mercedes-Benz of San Jose</td>\n",
       "      <td>4.6</td>\n",
       "      <td>(599 reviews)</td>\n",
       "      <td>$34,952</td>\n",
       "    </tr>\n",
       "    <tr>\n",
       "      <th>1</th>\n",
       "      <td>2020 Mercedes-Benz GLE 450 AWD 4MATIC</td>\n",
       "      <td>35,245 mi.</td>\n",
       "      <td>Mercedes-Benz of Plano</td>\n",
       "      <td>4.5</td>\n",
       "      <td>(1,222 reviews)</td>\n",
       "      <td>$69,955</td>\n",
       "    </tr>\n",
       "    <tr>\n",
       "      <th>2</th>\n",
       "      <td>2020 Mercedes-Benz GLE 350 Base 4MATIC</td>\n",
       "      <td>39,176 mi.</td>\n",
       "      <td>Mercedes-Benz of Easton</td>\n",
       "      <td>4.7</td>\n",
       "      <td>(667 reviews)</td>\n",
       "      <td>$57,493</td>\n",
       "    </tr>\n",
       "    <tr>\n",
       "      <th>3</th>\n",
       "      <td>2019 Mercedes-Benz AMG GLE 43 4MATIC Coupe</td>\n",
       "      <td>33,825 mi.</td>\n",
       "      <td>Mercedes-Benz of Plano</td>\n",
       "      <td>4.5</td>\n",
       "      <td>(1,222 reviews)</td>\n",
       "      <td>$71,955</td>\n",
       "    </tr>\n",
       "    <tr>\n",
       "      <th>4</th>\n",
       "      <td>2021 Mercedes-Benz GLC 300 Base 4MATIC</td>\n",
       "      <td>11,386 mi.</td>\n",
       "      <td>Mercedes-Benz of Burlington</td>\n",
       "      <td>4.7</td>\n",
       "      <td>(261 reviews)</td>\n",
       "      <td>$50,491</td>\n",
       "    </tr>\n",
       "    <tr>\n",
       "      <th>5</th>\n",
       "      <td>2018 Mercedes-Benz GLE 350 Base 4MATIC</td>\n",
       "      <td>38,595 mi.</td>\n",
       "      <td>Mercedes-Benz of Cherry Hill</td>\n",
       "      <td>4.3</td>\n",
       "      <td>(495 reviews)</td>\n",
       "      <td>$41,795</td>\n",
       "    </tr>\n",
       "    <tr>\n",
       "      <th>6</th>\n",
       "      <td>2020 Mercedes-Benz GLE 350 Base 4MATIC</td>\n",
       "      <td>22,822 mi.</td>\n",
       "      <td>Mercedes-Benz of Fredericksburg</td>\n",
       "      <td>4.6</td>\n",
       "      <td>(308 reviews)</td>\n",
       "      <td>$59,000</td>\n",
       "    </tr>\n",
       "    <tr>\n",
       "      <th>7</th>\n",
       "      <td>2019 Mercedes-Benz C-Class C 300 4MATIC</td>\n",
       "      <td>49,431 mi.</td>\n",
       "      <td>Mercedes-Benz of Houston Greenway</td>\n",
       "      <td>4.7</td>\n",
       "      <td>(1,882 reviews)</td>\n",
       "      <td>$36,992</td>\n",
       "    </tr>\n",
       "    <tr>\n",
       "      <th>8</th>\n",
       "      <td>2020 Mercedes-Benz GLE 350 Base 4MATIC</td>\n",
       "      <td>13,570 mi.</td>\n",
       "      <td>Mercedes-Benz of Naperville</td>\n",
       "      <td>4.7</td>\n",
       "      <td>(557 reviews)</td>\n",
       "      <td>$64,000</td>\n",
       "    </tr>\n",
       "    <tr>\n",
       "      <th>9</th>\n",
       "      <td>2021 Mercedes-Benz GLS 450 4MATIC</td>\n",
       "      <td>18,710 mi.</td>\n",
       "      <td>Mercedes-Benz of Pompano</td>\n",
       "      <td>4.5</td>\n",
       "      <td>(614 reviews)</td>\n",
       "      <td>$89,998</td>\n",
       "    </tr>\n",
       "    <tr>\n",
       "      <th>10</th>\n",
       "      <td>2019 Mercedes-Benz E-Class E 300</td>\n",
       "      <td>10,793 mi.</td>\n",
       "      <td>Mercedes-Benz of Westwood</td>\n",
       "      <td>4.5</td>\n",
       "      <td>(426 reviews)</td>\n",
       "      <td>$48,555</td>\n",
       "    </tr>\n",
       "    <tr>\n",
       "      <th>11</th>\n",
       "      <td>2021 Mercedes-Benz GLC 300 Base</td>\n",
       "      <td>23,840 mi.</td>\n",
       "      <td>Mercedes-Benz of Plano</td>\n",
       "      <td>4.5</td>\n",
       "      <td>(1,222 reviews)</td>\n",
       "      <td>$49,955</td>\n",
       "    </tr>\n",
       "    <tr>\n",
       "      <th>12</th>\n",
       "      <td>2020 Mercedes-Benz G-Class G 550 4MATIC</td>\n",
       "      <td>20,021 mi.</td>\n",
       "      <td>Mercedes-Benz of Union</td>\n",
       "      <td>4.9</td>\n",
       "      <td>(877 reviews)</td>\n",
       "      <td>$189,995</td>\n",
       "    </tr>\n",
       "    <tr>\n",
       "      <th>13</th>\n",
       "      <td>2020 Mercedes-Benz GLC 300 4MATIC</td>\n",
       "      <td>16,428 mi.</td>\n",
       "      <td>Mercedes-Benz of Pittsburgh</td>\n",
       "      <td>4.5</td>\n",
       "      <td>(76 reviews)</td>\n",
       "      <td>$48,980</td>\n",
       "    </tr>\n",
       "    <tr>\n",
       "      <th>14</th>\n",
       "      <td>2019 Mercedes-Benz CLA 250 Base 4MATIC</td>\n",
       "      <td>34,158 mi.</td>\n",
       "      <td>Mercedes-Benz of Rochester</td>\n",
       "      <td>4.7</td>\n",
       "      <td>(103 reviews)</td>\n",
       "      <td>$32,900</td>\n",
       "    </tr>\n",
       "    <tr>\n",
       "      <th>15</th>\n",
       "      <td>2021 Mercedes-Benz GLC 300 Base 4MATIC</td>\n",
       "      <td>14,380 mi.</td>\n",
       "      <td>Mercedes-Benz of Orange County NY</td>\n",
       "      <td>4.6</td>\n",
       "      <td>(63 reviews)</td>\n",
       "      <td>$48,992</td>\n",
       "    </tr>\n",
       "    <tr>\n",
       "      <th>16</th>\n",
       "      <td>2021 Mercedes-Benz GLC 300 Base 4MATIC</td>\n",
       "      <td>13,114 mi.</td>\n",
       "      <td>Mercedes-Benz of Orange County NY</td>\n",
       "      <td>4.6</td>\n",
       "      <td>(63 reviews)</td>\n",
       "      <td>$49,992</td>\n",
       "    </tr>\n",
       "    <tr>\n",
       "      <th>17</th>\n",
       "      <td>2020 Mercedes-Benz GLE 350 Base</td>\n",
       "      <td>17,625 mi.</td>\n",
       "      <td>Mercedes-Benz of Plano</td>\n",
       "      <td>4.5</td>\n",
       "      <td>(1,222 reviews)</td>\n",
       "      <td>$65,000</td>\n",
       "    </tr>\n",
       "    <tr>\n",
       "      <th>18</th>\n",
       "      <td>2019 Mercedes-Benz AMG G 63 Base</td>\n",
       "      <td>32,844 mi.</td>\n",
       "      <td>Mercedes-Benz of Houston Greenway</td>\n",
       "      <td>4.7</td>\n",
       "      <td>(1,882 reviews)</td>\n",
       "      <td>$207,981</td>\n",
       "    </tr>\n",
       "    <tr>\n",
       "      <th>19</th>\n",
       "      <td>2021 Mercedes-Benz GLC 300 Base</td>\n",
       "      <td>19,915 mi.</td>\n",
       "      <td>Mercedes-Benz of Plano</td>\n",
       "      <td>4.5</td>\n",
       "      <td>(1,222 reviews)</td>\n",
       "      <td>$50,955</td>\n",
       "    </tr>\n",
       "  </tbody>\n",
       "</table>\n",
       "</div>\n",
       "      <button class=\"colab-df-convert\" onclick=\"convertToInteractive('df-f8c38ec7-700f-46f5-9930-c0296eded094')\"\n",
       "              title=\"Convert this dataframe to an interactive table.\"\n",
       "              style=\"display:none;\">\n",
       "        \n",
       "  <svg xmlns=\"http://www.w3.org/2000/svg\" height=\"24px\"viewBox=\"0 0 24 24\"\n",
       "       width=\"24px\">\n",
       "    <path d=\"M0 0h24v24H0V0z\" fill=\"none\"/>\n",
       "    <path d=\"M18.56 5.44l.94 2.06.94-2.06 2.06-.94-2.06-.94-.94-2.06-.94 2.06-2.06.94zm-11 1L8.5 8.5l.94-2.06 2.06-.94-2.06-.94L8.5 2.5l-.94 2.06-2.06.94zm10 10l.94 2.06.94-2.06 2.06-.94-2.06-.94-.94-2.06-.94 2.06-2.06.94z\"/><path d=\"M17.41 7.96l-1.37-1.37c-.4-.4-.92-.59-1.43-.59-.52 0-1.04.2-1.43.59L10.3 9.45l-7.72 7.72c-.78.78-.78 2.05 0 2.83L4 21.41c.39.39.9.59 1.41.59.51 0 1.02-.2 1.41-.59l7.78-7.78 2.81-2.81c.8-.78.8-2.07 0-2.86zM5.41 20L4 18.59l7.72-7.72 1.47 1.35L5.41 20z\"/>\n",
       "  </svg>\n",
       "      </button>\n",
       "      \n",
       "  <style>\n",
       "    .colab-df-container {\n",
       "      display:flex;\n",
       "      flex-wrap:wrap;\n",
       "      gap: 12px;\n",
       "    }\n",
       "\n",
       "    .colab-df-convert {\n",
       "      background-color: #E8F0FE;\n",
       "      border: none;\n",
       "      border-radius: 50%;\n",
       "      cursor: pointer;\n",
       "      display: none;\n",
       "      fill: #1967D2;\n",
       "      height: 32px;\n",
       "      padding: 0 0 0 0;\n",
       "      width: 32px;\n",
       "    }\n",
       "\n",
       "    .colab-df-convert:hover {\n",
       "      background-color: #E2EBFA;\n",
       "      box-shadow: 0px 1px 2px rgba(60, 64, 67, 0.3), 0px 1px 3px 1px rgba(60, 64, 67, 0.15);\n",
       "      fill: #174EA6;\n",
       "    }\n",
       "\n",
       "    [theme=dark] .colab-df-convert {\n",
       "      background-color: #3B4455;\n",
       "      fill: #D2E3FC;\n",
       "    }\n",
       "\n",
       "    [theme=dark] .colab-df-convert:hover {\n",
       "      background-color: #434B5C;\n",
       "      box-shadow: 0px 1px 3px 1px rgba(0, 0, 0, 0.15);\n",
       "      filter: drop-shadow(0px 1px 2px rgba(0, 0, 0, 0.3));\n",
       "      fill: #FFFFFF;\n",
       "    }\n",
       "  </style>\n",
       "\n",
       "      <script>\n",
       "        const buttonEl =\n",
       "          document.querySelector('#df-f8c38ec7-700f-46f5-9930-c0296eded094 button.colab-df-convert');\n",
       "        buttonEl.style.display =\n",
       "          google.colab.kernel.accessAllowed ? 'block' : 'none';\n",
       "\n",
       "        async function convertToInteractive(key) {\n",
       "          const element = document.querySelector('#df-f8c38ec7-700f-46f5-9930-c0296eded094');\n",
       "          const dataTable =\n",
       "            await google.colab.kernel.invokeFunction('convertToInteractive',\n",
       "                                                     [key], {});\n",
       "          if (!dataTable) return;\n",
       "\n",
       "          const docLinkHtml = 'Like what you see? Visit the ' +\n",
       "            '<a target=\"_blank\" href=https://colab.research.google.com/notebooks/data_table.ipynb>data table notebook</a>'\n",
       "            + ' to learn more about interactive tables.';\n",
       "          element.innerHTML = '';\n",
       "          dataTable['output_type'] = 'display_data';\n",
       "          await google.colab.output.renderOutput(dataTable, element);\n",
       "          const docLink = document.createElement('div');\n",
       "          docLink.innerHTML = docLinkHtml;\n",
       "          element.appendChild(docLink);\n",
       "        }\n",
       "      </script>\n",
       "    </div>\n",
       "  </div>\n",
       "  "
      ],
      "text/plain": [
       "                                          Name     Mileage  \\\n",
       "0             2019 Mercedes-Benz C-Class C 300  15,174 mi.   \n",
       "1        2020 Mercedes-Benz GLE 450 AWD 4MATIC  35,245 mi.   \n",
       "2       2020 Mercedes-Benz GLE 350 Base 4MATIC  39,176 mi.   \n",
       "3   2019 Mercedes-Benz AMG GLE 43 4MATIC Coupe  33,825 mi.   \n",
       "4       2021 Mercedes-Benz GLC 300 Base 4MATIC  11,386 mi.   \n",
       "5       2018 Mercedes-Benz GLE 350 Base 4MATIC  38,595 mi.   \n",
       "6       2020 Mercedes-Benz GLE 350 Base 4MATIC  22,822 mi.   \n",
       "7      2019 Mercedes-Benz C-Class C 300 4MATIC  49,431 mi.   \n",
       "8       2020 Mercedes-Benz GLE 350 Base 4MATIC  13,570 mi.   \n",
       "9            2021 Mercedes-Benz GLS 450 4MATIC  18,710 mi.   \n",
       "10            2019 Mercedes-Benz E-Class E 300  10,793 mi.   \n",
       "11             2021 Mercedes-Benz GLC 300 Base  23,840 mi.   \n",
       "12     2020 Mercedes-Benz G-Class G 550 4MATIC  20,021 mi.   \n",
       "13           2020 Mercedes-Benz GLC 300 4MATIC  16,428 mi.   \n",
       "14      2019 Mercedes-Benz CLA 250 Base 4MATIC  34,158 mi.   \n",
       "15      2021 Mercedes-Benz GLC 300 Base 4MATIC  14,380 mi.   \n",
       "16      2021 Mercedes-Benz GLC 300 Base 4MATIC  13,114 mi.   \n",
       "17             2020 Mercedes-Benz GLE 350 Base  17,625 mi.   \n",
       "18            2019 Mercedes-Benz AMG G 63 Base  32,844 mi.   \n",
       "19             2021 Mercedes-Benz GLC 300 Base  19,915 mi.   \n",
       "\n",
       "                          Dealer Name Rating     Review Count     Price  \n",
       "0           Mercedes-Benz of San Jose    4.6    (599 reviews)   $34,952  \n",
       "1              Mercedes-Benz of Plano    4.5  (1,222 reviews)   $69,955  \n",
       "2             Mercedes-Benz of Easton    4.7    (667 reviews)   $57,493  \n",
       "3              Mercedes-Benz of Plano    4.5  (1,222 reviews)   $71,955  \n",
       "4         Mercedes-Benz of Burlington    4.7    (261 reviews)   $50,491  \n",
       "5        Mercedes-Benz of Cherry Hill    4.3    (495 reviews)   $41,795  \n",
       "6     Mercedes-Benz of Fredericksburg    4.6    (308 reviews)   $59,000  \n",
       "7   Mercedes-Benz of Houston Greenway    4.7  (1,882 reviews)   $36,992  \n",
       "8         Mercedes-Benz of Naperville    4.7    (557 reviews)   $64,000  \n",
       "9            Mercedes-Benz of Pompano    4.5    (614 reviews)   $89,998  \n",
       "10          Mercedes-Benz of Westwood    4.5    (426 reviews)   $48,555  \n",
       "11             Mercedes-Benz of Plano    4.5  (1,222 reviews)   $49,955  \n",
       "12             Mercedes-Benz of Union    4.9    (877 reviews)  $189,995  \n",
       "13        Mercedes-Benz of Pittsburgh    4.5     (76 reviews)   $48,980  \n",
       "14         Mercedes-Benz of Rochester    4.7    (103 reviews)   $32,900  \n",
       "15  Mercedes-Benz of Orange County NY    4.6     (63 reviews)   $48,992  \n",
       "16  Mercedes-Benz of Orange County NY    4.6     (63 reviews)   $49,992  \n",
       "17             Mercedes-Benz of Plano    4.5  (1,222 reviews)   $65,000  \n",
       "18  Mercedes-Benz of Houston Greenway    4.7  (1,882 reviews)  $207,981  \n",
       "19             Mercedes-Benz of Plano    4.5  (1,222 reviews)   $50,955  "
      ]
     },
     "execution_count": 17,
     "metadata": {},
     "output_type": "execute_result"
    }
   ],
   "source": [
    "car_dealer"
   ]
  },
  {
   "cell_type": "markdown",
   "metadata": {
    "id": "YilxjYVOc_4p"
   },
   "source": [
    "#### Data Cleaning"
   ]
  },
  {
   "cell_type": "code",
   "execution_count": 18,
   "metadata": {
    "id": "4d2BCLTic_4p"
   },
   "outputs": [],
   "source": [
    "car_dealer['Review Count'] = car_dealer['Review Count'].apply(lambda x: x.strip('reviews)').strip('('))"
   ]
  },
  {
   "cell_type": "code",
   "execution_count": 19,
   "metadata": {
    "colab": {
     "base_uri": "https://localhost:8080/",
     "height": 677
    },
    "id": "tyvQ1A2Jc_4q",
    "outputId": "18354079-a476-4cd0-fd49-5a97a4486338"
   },
   "outputs": [
    {
     "data": {
      "text/html": [
       "\n",
       "  <div id=\"df-371aba98-6c42-4f75-836a-bb96d5ace0e9\">\n",
       "    <div class=\"colab-df-container\">\n",
       "      <div>\n",
       "<style scoped>\n",
       "    .dataframe tbody tr th:only-of-type {\n",
       "        vertical-align: middle;\n",
       "    }\n",
       "\n",
       "    .dataframe tbody tr th {\n",
       "        vertical-align: top;\n",
       "    }\n",
       "\n",
       "    .dataframe thead th {\n",
       "        text-align: right;\n",
       "    }\n",
       "</style>\n",
       "<table border=\"1\" class=\"dataframe\">\n",
       "  <thead>\n",
       "    <tr style=\"text-align: right;\">\n",
       "      <th></th>\n",
       "      <th>Name</th>\n",
       "      <th>Mileage</th>\n",
       "      <th>Dealer Name</th>\n",
       "      <th>Rating</th>\n",
       "      <th>Review Count</th>\n",
       "      <th>Price</th>\n",
       "    </tr>\n",
       "  </thead>\n",
       "  <tbody>\n",
       "    <tr>\n",
       "      <th>0</th>\n",
       "      <td>2019 Mercedes-Benz C-Class C 300</td>\n",
       "      <td>15,174 mi.</td>\n",
       "      <td>Mercedes-Benz of San Jose</td>\n",
       "      <td>4.6</td>\n",
       "      <td>599</td>\n",
       "      <td>$34,952</td>\n",
       "    </tr>\n",
       "    <tr>\n",
       "      <th>1</th>\n",
       "      <td>2020 Mercedes-Benz GLE 450 AWD 4MATIC</td>\n",
       "      <td>35,245 mi.</td>\n",
       "      <td>Mercedes-Benz of Plano</td>\n",
       "      <td>4.5</td>\n",
       "      <td>1,222</td>\n",
       "      <td>$69,955</td>\n",
       "    </tr>\n",
       "    <tr>\n",
       "      <th>2</th>\n",
       "      <td>2020 Mercedes-Benz GLE 350 Base 4MATIC</td>\n",
       "      <td>39,176 mi.</td>\n",
       "      <td>Mercedes-Benz of Easton</td>\n",
       "      <td>4.7</td>\n",
       "      <td>667</td>\n",
       "      <td>$57,493</td>\n",
       "    </tr>\n",
       "    <tr>\n",
       "      <th>3</th>\n",
       "      <td>2019 Mercedes-Benz AMG GLE 43 4MATIC Coupe</td>\n",
       "      <td>33,825 mi.</td>\n",
       "      <td>Mercedes-Benz of Plano</td>\n",
       "      <td>4.5</td>\n",
       "      <td>1,222</td>\n",
       "      <td>$71,955</td>\n",
       "    </tr>\n",
       "    <tr>\n",
       "      <th>4</th>\n",
       "      <td>2021 Mercedes-Benz GLC 300 Base 4MATIC</td>\n",
       "      <td>11,386 mi.</td>\n",
       "      <td>Mercedes-Benz of Burlington</td>\n",
       "      <td>4.7</td>\n",
       "      <td>261</td>\n",
       "      <td>$50,491</td>\n",
       "    </tr>\n",
       "    <tr>\n",
       "      <th>5</th>\n",
       "      <td>2018 Mercedes-Benz GLE 350 Base 4MATIC</td>\n",
       "      <td>38,595 mi.</td>\n",
       "      <td>Mercedes-Benz of Cherry Hill</td>\n",
       "      <td>4.3</td>\n",
       "      <td>495</td>\n",
       "      <td>$41,795</td>\n",
       "    </tr>\n",
       "    <tr>\n",
       "      <th>6</th>\n",
       "      <td>2020 Mercedes-Benz GLE 350 Base 4MATIC</td>\n",
       "      <td>22,822 mi.</td>\n",
       "      <td>Mercedes-Benz of Fredericksburg</td>\n",
       "      <td>4.6</td>\n",
       "      <td>308</td>\n",
       "      <td>$59,000</td>\n",
       "    </tr>\n",
       "    <tr>\n",
       "      <th>7</th>\n",
       "      <td>2019 Mercedes-Benz C-Class C 300 4MATIC</td>\n",
       "      <td>49,431 mi.</td>\n",
       "      <td>Mercedes-Benz of Houston Greenway</td>\n",
       "      <td>4.7</td>\n",
       "      <td>1,882</td>\n",
       "      <td>$36,992</td>\n",
       "    </tr>\n",
       "    <tr>\n",
       "      <th>8</th>\n",
       "      <td>2020 Mercedes-Benz GLE 350 Base 4MATIC</td>\n",
       "      <td>13,570 mi.</td>\n",
       "      <td>Mercedes-Benz of Naperville</td>\n",
       "      <td>4.7</td>\n",
       "      <td>557</td>\n",
       "      <td>$64,000</td>\n",
       "    </tr>\n",
       "    <tr>\n",
       "      <th>9</th>\n",
       "      <td>2021 Mercedes-Benz GLS 450 4MATIC</td>\n",
       "      <td>18,710 mi.</td>\n",
       "      <td>Mercedes-Benz of Pompano</td>\n",
       "      <td>4.5</td>\n",
       "      <td>614</td>\n",
       "      <td>$89,998</td>\n",
       "    </tr>\n",
       "    <tr>\n",
       "      <th>10</th>\n",
       "      <td>2019 Mercedes-Benz E-Class E 300</td>\n",
       "      <td>10,793 mi.</td>\n",
       "      <td>Mercedes-Benz of Westwood</td>\n",
       "      <td>4.5</td>\n",
       "      <td>426</td>\n",
       "      <td>$48,555</td>\n",
       "    </tr>\n",
       "    <tr>\n",
       "      <th>11</th>\n",
       "      <td>2021 Mercedes-Benz GLC 300 Base</td>\n",
       "      <td>23,840 mi.</td>\n",
       "      <td>Mercedes-Benz of Plano</td>\n",
       "      <td>4.5</td>\n",
       "      <td>1,222</td>\n",
       "      <td>$49,955</td>\n",
       "    </tr>\n",
       "    <tr>\n",
       "      <th>12</th>\n",
       "      <td>2020 Mercedes-Benz G-Class G 550 4MATIC</td>\n",
       "      <td>20,021 mi.</td>\n",
       "      <td>Mercedes-Benz of Union</td>\n",
       "      <td>4.9</td>\n",
       "      <td>877</td>\n",
       "      <td>$189,995</td>\n",
       "    </tr>\n",
       "    <tr>\n",
       "      <th>13</th>\n",
       "      <td>2020 Mercedes-Benz GLC 300 4MATIC</td>\n",
       "      <td>16,428 mi.</td>\n",
       "      <td>Mercedes-Benz of Pittsburgh</td>\n",
       "      <td>4.5</td>\n",
       "      <td>76</td>\n",
       "      <td>$48,980</td>\n",
       "    </tr>\n",
       "    <tr>\n",
       "      <th>14</th>\n",
       "      <td>2019 Mercedes-Benz CLA 250 Base 4MATIC</td>\n",
       "      <td>34,158 mi.</td>\n",
       "      <td>Mercedes-Benz of Rochester</td>\n",
       "      <td>4.7</td>\n",
       "      <td>103</td>\n",
       "      <td>$32,900</td>\n",
       "    </tr>\n",
       "    <tr>\n",
       "      <th>15</th>\n",
       "      <td>2021 Mercedes-Benz GLC 300 Base 4MATIC</td>\n",
       "      <td>14,380 mi.</td>\n",
       "      <td>Mercedes-Benz of Orange County NY</td>\n",
       "      <td>4.6</td>\n",
       "      <td>63</td>\n",
       "      <td>$48,992</td>\n",
       "    </tr>\n",
       "    <tr>\n",
       "      <th>16</th>\n",
       "      <td>2021 Mercedes-Benz GLC 300 Base 4MATIC</td>\n",
       "      <td>13,114 mi.</td>\n",
       "      <td>Mercedes-Benz of Orange County NY</td>\n",
       "      <td>4.6</td>\n",
       "      <td>63</td>\n",
       "      <td>$49,992</td>\n",
       "    </tr>\n",
       "    <tr>\n",
       "      <th>17</th>\n",
       "      <td>2020 Mercedes-Benz GLE 350 Base</td>\n",
       "      <td>17,625 mi.</td>\n",
       "      <td>Mercedes-Benz of Plano</td>\n",
       "      <td>4.5</td>\n",
       "      <td>1,222</td>\n",
       "      <td>$65,000</td>\n",
       "    </tr>\n",
       "    <tr>\n",
       "      <th>18</th>\n",
       "      <td>2019 Mercedes-Benz AMG G 63 Base</td>\n",
       "      <td>32,844 mi.</td>\n",
       "      <td>Mercedes-Benz of Houston Greenway</td>\n",
       "      <td>4.7</td>\n",
       "      <td>1,882</td>\n",
       "      <td>$207,981</td>\n",
       "    </tr>\n",
       "    <tr>\n",
       "      <th>19</th>\n",
       "      <td>2021 Mercedes-Benz GLC 300 Base</td>\n",
       "      <td>19,915 mi.</td>\n",
       "      <td>Mercedes-Benz of Plano</td>\n",
       "      <td>4.5</td>\n",
       "      <td>1,222</td>\n",
       "      <td>$50,955</td>\n",
       "    </tr>\n",
       "  </tbody>\n",
       "</table>\n",
       "</div>\n",
       "      <button class=\"colab-df-convert\" onclick=\"convertToInteractive('df-371aba98-6c42-4f75-836a-bb96d5ace0e9')\"\n",
       "              title=\"Convert this dataframe to an interactive table.\"\n",
       "              style=\"display:none;\">\n",
       "        \n",
       "  <svg xmlns=\"http://www.w3.org/2000/svg\" height=\"24px\"viewBox=\"0 0 24 24\"\n",
       "       width=\"24px\">\n",
       "    <path d=\"M0 0h24v24H0V0z\" fill=\"none\"/>\n",
       "    <path d=\"M18.56 5.44l.94 2.06.94-2.06 2.06-.94-2.06-.94-.94-2.06-.94 2.06-2.06.94zm-11 1L8.5 8.5l.94-2.06 2.06-.94-2.06-.94L8.5 2.5l-.94 2.06-2.06.94zm10 10l.94 2.06.94-2.06 2.06-.94-2.06-.94-.94-2.06-.94 2.06-2.06.94z\"/><path d=\"M17.41 7.96l-1.37-1.37c-.4-.4-.92-.59-1.43-.59-.52 0-1.04.2-1.43.59L10.3 9.45l-7.72 7.72c-.78.78-.78 2.05 0 2.83L4 21.41c.39.39.9.59 1.41.59.51 0 1.02-.2 1.41-.59l7.78-7.78 2.81-2.81c.8-.78.8-2.07 0-2.86zM5.41 20L4 18.59l7.72-7.72 1.47 1.35L5.41 20z\"/>\n",
       "  </svg>\n",
       "      </button>\n",
       "      \n",
       "  <style>\n",
       "    .colab-df-container {\n",
       "      display:flex;\n",
       "      flex-wrap:wrap;\n",
       "      gap: 12px;\n",
       "    }\n",
       "\n",
       "    .colab-df-convert {\n",
       "      background-color: #E8F0FE;\n",
       "      border: none;\n",
       "      border-radius: 50%;\n",
       "      cursor: pointer;\n",
       "      display: none;\n",
       "      fill: #1967D2;\n",
       "      height: 32px;\n",
       "      padding: 0 0 0 0;\n",
       "      width: 32px;\n",
       "    }\n",
       "\n",
       "    .colab-df-convert:hover {\n",
       "      background-color: #E2EBFA;\n",
       "      box-shadow: 0px 1px 2px rgba(60, 64, 67, 0.3), 0px 1px 3px 1px rgba(60, 64, 67, 0.15);\n",
       "      fill: #174EA6;\n",
       "    }\n",
       "\n",
       "    [theme=dark] .colab-df-convert {\n",
       "      background-color: #3B4455;\n",
       "      fill: #D2E3FC;\n",
       "    }\n",
       "\n",
       "    [theme=dark] .colab-df-convert:hover {\n",
       "      background-color: #434B5C;\n",
       "      box-shadow: 0px 1px 3px 1px rgba(0, 0, 0, 0.15);\n",
       "      filter: drop-shadow(0px 1px 2px rgba(0, 0, 0, 0.3));\n",
       "      fill: #FFFFFF;\n",
       "    }\n",
       "  </style>\n",
       "\n",
       "      <script>\n",
       "        const buttonEl =\n",
       "          document.querySelector('#df-371aba98-6c42-4f75-836a-bb96d5ace0e9 button.colab-df-convert');\n",
       "        buttonEl.style.display =\n",
       "          google.colab.kernel.accessAllowed ? 'block' : 'none';\n",
       "\n",
       "        async function convertToInteractive(key) {\n",
       "          const element = document.querySelector('#df-371aba98-6c42-4f75-836a-bb96d5ace0e9');\n",
       "          const dataTable =\n",
       "            await google.colab.kernel.invokeFunction('convertToInteractive',\n",
       "                                                     [key], {});\n",
       "          if (!dataTable) return;\n",
       "\n",
       "          const docLinkHtml = 'Like what you see? Visit the ' +\n",
       "            '<a target=\"_blank\" href=https://colab.research.google.com/notebooks/data_table.ipynb>data table notebook</a>'\n",
       "            + ' to learn more about interactive tables.';\n",
       "          element.innerHTML = '';\n",
       "          dataTable['output_type'] = 'display_data';\n",
       "          await google.colab.output.renderOutput(dataTable, element);\n",
       "          const docLink = document.createElement('div');\n",
       "          docLink.innerHTML = docLinkHtml;\n",
       "          element.appendChild(docLink);\n",
       "        }\n",
       "      </script>\n",
       "    </div>\n",
       "  </div>\n",
       "  "
      ],
      "text/plain": [
       "                                          Name     Mileage  \\\n",
       "0             2019 Mercedes-Benz C-Class C 300  15,174 mi.   \n",
       "1        2020 Mercedes-Benz GLE 450 AWD 4MATIC  35,245 mi.   \n",
       "2       2020 Mercedes-Benz GLE 350 Base 4MATIC  39,176 mi.   \n",
       "3   2019 Mercedes-Benz AMG GLE 43 4MATIC Coupe  33,825 mi.   \n",
       "4       2021 Mercedes-Benz GLC 300 Base 4MATIC  11,386 mi.   \n",
       "5       2018 Mercedes-Benz GLE 350 Base 4MATIC  38,595 mi.   \n",
       "6       2020 Mercedes-Benz GLE 350 Base 4MATIC  22,822 mi.   \n",
       "7      2019 Mercedes-Benz C-Class C 300 4MATIC  49,431 mi.   \n",
       "8       2020 Mercedes-Benz GLE 350 Base 4MATIC  13,570 mi.   \n",
       "9            2021 Mercedes-Benz GLS 450 4MATIC  18,710 mi.   \n",
       "10            2019 Mercedes-Benz E-Class E 300  10,793 mi.   \n",
       "11             2021 Mercedes-Benz GLC 300 Base  23,840 mi.   \n",
       "12     2020 Mercedes-Benz G-Class G 550 4MATIC  20,021 mi.   \n",
       "13           2020 Mercedes-Benz GLC 300 4MATIC  16,428 mi.   \n",
       "14      2019 Mercedes-Benz CLA 250 Base 4MATIC  34,158 mi.   \n",
       "15      2021 Mercedes-Benz GLC 300 Base 4MATIC  14,380 mi.   \n",
       "16      2021 Mercedes-Benz GLC 300 Base 4MATIC  13,114 mi.   \n",
       "17             2020 Mercedes-Benz GLE 350 Base  17,625 mi.   \n",
       "18            2019 Mercedes-Benz AMG G 63 Base  32,844 mi.   \n",
       "19             2021 Mercedes-Benz GLC 300 Base  19,915 mi.   \n",
       "\n",
       "                          Dealer Name Rating Review Count     Price  \n",
       "0           Mercedes-Benz of San Jose    4.6         599    $34,952  \n",
       "1              Mercedes-Benz of Plano    4.5       1,222    $69,955  \n",
       "2             Mercedes-Benz of Easton    4.7         667    $57,493  \n",
       "3              Mercedes-Benz of Plano    4.5       1,222    $71,955  \n",
       "4         Mercedes-Benz of Burlington    4.7         261    $50,491  \n",
       "5        Mercedes-Benz of Cherry Hill    4.3         495    $41,795  \n",
       "6     Mercedes-Benz of Fredericksburg    4.6         308    $59,000  \n",
       "7   Mercedes-Benz of Houston Greenway    4.7       1,882    $36,992  \n",
       "8         Mercedes-Benz of Naperville    4.7         557    $64,000  \n",
       "9            Mercedes-Benz of Pompano    4.5         614    $89,998  \n",
       "10          Mercedes-Benz of Westwood    4.5         426    $48,555  \n",
       "11             Mercedes-Benz of Plano    4.5       1,222    $49,955  \n",
       "12             Mercedes-Benz of Union    4.9         877   $189,995  \n",
       "13        Mercedes-Benz of Pittsburgh    4.5          76    $48,980  \n",
       "14         Mercedes-Benz of Rochester    4.7         103    $32,900  \n",
       "15  Mercedes-Benz of Orange County NY    4.6          63    $48,992  \n",
       "16  Mercedes-Benz of Orange County NY    4.6          63    $49,992  \n",
       "17             Mercedes-Benz of Plano    4.5       1,222    $65,000  \n",
       "18  Mercedes-Benz of Houston Greenway    4.7       1,882   $207,981  \n",
       "19             Mercedes-Benz of Plano    4.5       1,222    $50,955  "
      ]
     },
     "execution_count": 19,
     "metadata": {},
     "output_type": "execute_result"
    }
   ],
   "source": [
    "# dataframe updated\n",
    "car_dealer"
   ]
  },
  {
   "cell_type": "markdown",
   "metadata": {
    "id": "85h87g8mc_4r"
   },
   "source": [
    "### Output in Excel"
   ]
  },
  {
   "cell_type": "code",
   "execution_count": 20,
   "metadata": {
    "id": "qVfH0CcQc_4r"
   },
   "outputs": [],
   "source": [
    "car_dealer.to_excel('car_dealer_single_page.xlsx', index=False)"
   ]
  },
  {
   "cell_type": "markdown",
   "metadata": {
    "id": "IPURpQbcc_4s"
   },
   "source": [
    "# Pagination "
   ]
  },
  {
   "cell_type": "code",
   "execution_count": 21,
   "metadata": {
    "id": "wuMAB_Hzc_4s"
   },
   "outputs": [],
   "source": [
    "name = []\n",
    "mileage = []\n",
    "dealer_name = []\n",
    "rating = []\n",
    "review_count = []\n",
    "price = []\n",
    "\n",
    "for i in range (1,11):\n",
    "    \n",
    "    # website in variable\n",
    "    website = 'https://www.cars.com/shopping/results/?page='+ str(i) +'&page_size=20&dealer_id=&list_price_max=&list_price_min=&makes[]=mercedes_benz&maximum_distance=20&mileage_max=&sort=best_match_desc&stock_type=cpo&year_max=&year_min=&zip=' \n",
    "    \n",
    "    # request to website\n",
    "    response = requests.get(website)\n",
    "    \n",
    "    # soup object\n",
    "    soup = BeautifulSoup(response.content, 'html.parser')\n",
    "    \n",
    "    # results\n",
    "    results = soup.find_all('div', {'class' : 'vehicle-card'})\n",
    "    \n",
    "    # loop through results\n",
    "    for result in results:\n",
    "    \n",
    "        # name\n",
    "        try:\n",
    "            name.append(result.find('h2').get_text()) \n",
    "        except:\n",
    "            name.append('n/a')\n",
    "\n",
    "        # mileage\n",
    "        try:\n",
    "            mileage.append(result.find('div', {'class':'mileage'}).get_text())\n",
    "        except:\n",
    "            mileage.append('n/a')\n",
    "\n",
    "        # dealer_name\n",
    "        try:\n",
    "            dealer_name.append(result.find('div', {'class':'dealer-name'}).get_text().strip())\n",
    "        except:\n",
    "            dealer_name.append('n/a')\n",
    "\n",
    "        # rating\n",
    "        try:\n",
    "            rating.append(result.find('span', {'class':'sds-rating__count'}).get_text())\n",
    "        except:\n",
    "            rating.append('n/a')\n",
    "\n",
    "        # review_count\n",
    "        try:\n",
    "            review_count.append(result.find('span', {'class':'sds-rating__link'}).get_text())\n",
    "        except:\n",
    "            review_count.append('n/a')\n",
    "\n",
    "        #price \n",
    "        try:\n",
    "            price.append(result.find('span', {'class':'primary-price'}).get_text())\n",
    "        except:\n",
    "            price.append('n/a')"
   ]
  },
  {
   "cell_type": "code",
   "execution_count": 22,
   "metadata": {
    "id": "z79R4GYOc_4v"
   },
   "outputs": [],
   "source": [
    "# dictionary\n",
    "car_dealer = pd.DataFrame({'Name': name, 'Mileage':mileage, 'Dealer Name':dealer_name,\n",
    "                                'Rating': rating, 'Review Count': review_count, 'Price': price})"
   ]
  },
  {
   "cell_type": "code",
   "execution_count": 23,
   "metadata": {
    "colab": {
     "base_uri": "https://localhost:8080/",
     "height": 424
    },
    "id": "hnzhJ0usc_4w",
    "outputId": "135f0255-3c35-4f1a-dac5-3140f318933b"
   },
   "outputs": [
    {
     "data": {
      "text/html": [
       "\n",
       "  <div id=\"df-0917f42b-a6f1-409c-9614-3922e9f0f0df\">\n",
       "    <div class=\"colab-df-container\">\n",
       "      <div>\n",
       "<style scoped>\n",
       "    .dataframe tbody tr th:only-of-type {\n",
       "        vertical-align: middle;\n",
       "    }\n",
       "\n",
       "    .dataframe tbody tr th {\n",
       "        vertical-align: top;\n",
       "    }\n",
       "\n",
       "    .dataframe thead th {\n",
       "        text-align: right;\n",
       "    }\n",
       "</style>\n",
       "<table border=\"1\" class=\"dataframe\">\n",
       "  <thead>\n",
       "    <tr style=\"text-align: right;\">\n",
       "      <th></th>\n",
       "      <th>Name</th>\n",
       "      <th>Mileage</th>\n",
       "      <th>Dealer Name</th>\n",
       "      <th>Rating</th>\n",
       "      <th>Review Count</th>\n",
       "      <th>Price</th>\n",
       "    </tr>\n",
       "  </thead>\n",
       "  <tbody>\n",
       "    <tr>\n",
       "      <th>0</th>\n",
       "      <td>2019 Mercedes-Benz C-Class C 300</td>\n",
       "      <td>15,174 mi.</td>\n",
       "      <td>Mercedes-Benz of San Jose</td>\n",
       "      <td>4.6</td>\n",
       "      <td>(599 reviews)</td>\n",
       "      <td>$34,952</td>\n",
       "    </tr>\n",
       "    <tr>\n",
       "      <th>1</th>\n",
       "      <td>2020 Mercedes-Benz GLE 450 AWD 4MATIC</td>\n",
       "      <td>35,245 mi.</td>\n",
       "      <td>Mercedes-Benz of Plano</td>\n",
       "      <td>4.5</td>\n",
       "      <td>(1,222 reviews)</td>\n",
       "      <td>$69,955</td>\n",
       "    </tr>\n",
       "    <tr>\n",
       "      <th>2</th>\n",
       "      <td>2020 Mercedes-Benz GLE 350 Base 4MATIC</td>\n",
       "      <td>39,176 mi.</td>\n",
       "      <td>Mercedes-Benz of Easton</td>\n",
       "      <td>4.7</td>\n",
       "      <td>(667 reviews)</td>\n",
       "      <td>$57,493</td>\n",
       "    </tr>\n",
       "    <tr>\n",
       "      <th>3</th>\n",
       "      <td>2019 Mercedes-Benz AMG GLE 43 4MATIC Coupe</td>\n",
       "      <td>33,825 mi.</td>\n",
       "      <td>Mercedes-Benz of Plano</td>\n",
       "      <td>4.5</td>\n",
       "      <td>(1,222 reviews)</td>\n",
       "      <td>$71,955</td>\n",
       "    </tr>\n",
       "    <tr>\n",
       "      <th>4</th>\n",
       "      <td>2021 Mercedes-Benz GLC 300 Base 4MATIC</td>\n",
       "      <td>11,386 mi.</td>\n",
       "      <td>Mercedes-Benz of Burlington</td>\n",
       "      <td>4.7</td>\n",
       "      <td>(261 reviews)</td>\n",
       "      <td>$50,491</td>\n",
       "    </tr>\n",
       "    <tr>\n",
       "      <th>...</th>\n",
       "      <td>...</td>\n",
       "      <td>...</td>\n",
       "      <td>...</td>\n",
       "      <td>...</td>\n",
       "      <td>...</td>\n",
       "      <td>...</td>\n",
       "    </tr>\n",
       "    <tr>\n",
       "      <th>195</th>\n",
       "      <td>2019 Mercedes-Benz CLA 250 Base</td>\n",
       "      <td>11,042 mi.</td>\n",
       "      <td>Jackie Cooper Imports</td>\n",
       "      <td>4.9</td>\n",
       "      <td>(3,278 reviews)</td>\n",
       "      <td>$34,900</td>\n",
       "    </tr>\n",
       "    <tr>\n",
       "      <th>196</th>\n",
       "      <td>2021 Mercedes-Benz C-Class C 300</td>\n",
       "      <td>1,730 mi.</td>\n",
       "      <td>W.I. Simonson Inc.</td>\n",
       "      <td>4.5</td>\n",
       "      <td>(773 reviews)</td>\n",
       "      <td>$40,999</td>\n",
       "    </tr>\n",
       "    <tr>\n",
       "      <th>197</th>\n",
       "      <td>2021 Mercedes-Benz GLE 580 AWD 4MATIC</td>\n",
       "      <td>3,553 mi.</td>\n",
       "      <td>Mercedes-Benz of Chesterfield</td>\n",
       "      <td>4.4</td>\n",
       "      <td>(98 reviews)</td>\n",
       "      <td>$96,811</td>\n",
       "    </tr>\n",
       "    <tr>\n",
       "      <th>198</th>\n",
       "      <td>2019 Mercedes-Benz C-Class C 300 4MATIC</td>\n",
       "      <td>15,437 mi.</td>\n",
       "      <td>Mercedes-Benz of Rochester</td>\n",
       "      <td>2.5</td>\n",
       "      <td>(3 reviews)</td>\n",
       "      <td>$56,790</td>\n",
       "    </tr>\n",
       "    <tr>\n",
       "      <th>199</th>\n",
       "      <td>2021 Mercedes-Benz AMG GLC 43 Base 4MATIC</td>\n",
       "      <td>12,565 mi.</td>\n",
       "      <td>Baker Motor Company of Charleston</td>\n",
       "      <td>3.9</td>\n",
       "      <td>(200 reviews)</td>\n",
       "      <td>$76,498</td>\n",
       "    </tr>\n",
       "  </tbody>\n",
       "</table>\n",
       "<p>200 rows × 6 columns</p>\n",
       "</div>\n",
       "      <button class=\"colab-df-convert\" onclick=\"convertToInteractive('df-0917f42b-a6f1-409c-9614-3922e9f0f0df')\"\n",
       "              title=\"Convert this dataframe to an interactive table.\"\n",
       "              style=\"display:none;\">\n",
       "        \n",
       "  <svg xmlns=\"http://www.w3.org/2000/svg\" height=\"24px\"viewBox=\"0 0 24 24\"\n",
       "       width=\"24px\">\n",
       "    <path d=\"M0 0h24v24H0V0z\" fill=\"none\"/>\n",
       "    <path d=\"M18.56 5.44l.94 2.06.94-2.06 2.06-.94-2.06-.94-.94-2.06-.94 2.06-2.06.94zm-11 1L8.5 8.5l.94-2.06 2.06-.94-2.06-.94L8.5 2.5l-.94 2.06-2.06.94zm10 10l.94 2.06.94-2.06 2.06-.94-2.06-.94-.94-2.06-.94 2.06-2.06.94z\"/><path d=\"M17.41 7.96l-1.37-1.37c-.4-.4-.92-.59-1.43-.59-.52 0-1.04.2-1.43.59L10.3 9.45l-7.72 7.72c-.78.78-.78 2.05 0 2.83L4 21.41c.39.39.9.59 1.41.59.51 0 1.02-.2 1.41-.59l7.78-7.78 2.81-2.81c.8-.78.8-2.07 0-2.86zM5.41 20L4 18.59l7.72-7.72 1.47 1.35L5.41 20z\"/>\n",
       "  </svg>\n",
       "      </button>\n",
       "      \n",
       "  <style>\n",
       "    .colab-df-container {\n",
       "      display:flex;\n",
       "      flex-wrap:wrap;\n",
       "      gap: 12px;\n",
       "    }\n",
       "\n",
       "    .colab-df-convert {\n",
       "      background-color: #E8F0FE;\n",
       "      border: none;\n",
       "      border-radius: 50%;\n",
       "      cursor: pointer;\n",
       "      display: none;\n",
       "      fill: #1967D2;\n",
       "      height: 32px;\n",
       "      padding: 0 0 0 0;\n",
       "      width: 32px;\n",
       "    }\n",
       "\n",
       "    .colab-df-convert:hover {\n",
       "      background-color: #E2EBFA;\n",
       "      box-shadow: 0px 1px 2px rgba(60, 64, 67, 0.3), 0px 1px 3px 1px rgba(60, 64, 67, 0.15);\n",
       "      fill: #174EA6;\n",
       "    }\n",
       "\n",
       "    [theme=dark] .colab-df-convert {\n",
       "      background-color: #3B4455;\n",
       "      fill: #D2E3FC;\n",
       "    }\n",
       "\n",
       "    [theme=dark] .colab-df-convert:hover {\n",
       "      background-color: #434B5C;\n",
       "      box-shadow: 0px 1px 3px 1px rgba(0, 0, 0, 0.15);\n",
       "      filter: drop-shadow(0px 1px 2px rgba(0, 0, 0, 0.3));\n",
       "      fill: #FFFFFF;\n",
       "    }\n",
       "  </style>\n",
       "\n",
       "      <script>\n",
       "        const buttonEl =\n",
       "          document.querySelector('#df-0917f42b-a6f1-409c-9614-3922e9f0f0df button.colab-df-convert');\n",
       "        buttonEl.style.display =\n",
       "          google.colab.kernel.accessAllowed ? 'block' : 'none';\n",
       "\n",
       "        async function convertToInteractive(key) {\n",
       "          const element = document.querySelector('#df-0917f42b-a6f1-409c-9614-3922e9f0f0df');\n",
       "          const dataTable =\n",
       "            await google.colab.kernel.invokeFunction('convertToInteractive',\n",
       "                                                     [key], {});\n",
       "          if (!dataTable) return;\n",
       "\n",
       "          const docLinkHtml = 'Like what you see? Visit the ' +\n",
       "            '<a target=\"_blank\" href=https://colab.research.google.com/notebooks/data_table.ipynb>data table notebook</a>'\n",
       "            + ' to learn more about interactive tables.';\n",
       "          element.innerHTML = '';\n",
       "          dataTable['output_type'] = 'display_data';\n",
       "          await google.colab.output.renderOutput(dataTable, element);\n",
       "          const docLink = document.createElement('div');\n",
       "          docLink.innerHTML = docLinkHtml;\n",
       "          element.appendChild(docLink);\n",
       "        }\n",
       "      </script>\n",
       "    </div>\n",
       "  </div>\n",
       "  "
      ],
      "text/plain": [
       "                                           Name     Mileage  \\\n",
       "0              2019 Mercedes-Benz C-Class C 300  15,174 mi.   \n",
       "1         2020 Mercedes-Benz GLE 450 AWD 4MATIC  35,245 mi.   \n",
       "2        2020 Mercedes-Benz GLE 350 Base 4MATIC  39,176 mi.   \n",
       "3    2019 Mercedes-Benz AMG GLE 43 4MATIC Coupe  33,825 mi.   \n",
       "4        2021 Mercedes-Benz GLC 300 Base 4MATIC  11,386 mi.   \n",
       "..                                          ...         ...   \n",
       "195             2019 Mercedes-Benz CLA 250 Base  11,042 mi.   \n",
       "196            2021 Mercedes-Benz C-Class C 300   1,730 mi.   \n",
       "197       2021 Mercedes-Benz GLE 580 AWD 4MATIC   3,553 mi.   \n",
       "198     2019 Mercedes-Benz C-Class C 300 4MATIC  15,437 mi.   \n",
       "199   2021 Mercedes-Benz AMG GLC 43 Base 4MATIC  12,565 mi.   \n",
       "\n",
       "                           Dealer Name Rating     Review Count    Price  \n",
       "0            Mercedes-Benz of San Jose    4.6    (599 reviews)  $34,952  \n",
       "1               Mercedes-Benz of Plano    4.5  (1,222 reviews)  $69,955  \n",
       "2              Mercedes-Benz of Easton    4.7    (667 reviews)  $57,493  \n",
       "3               Mercedes-Benz of Plano    4.5  (1,222 reviews)  $71,955  \n",
       "4          Mercedes-Benz of Burlington    4.7    (261 reviews)  $50,491  \n",
       "..                                 ...    ...              ...      ...  \n",
       "195              Jackie Cooper Imports    4.9  (3,278 reviews)  $34,900  \n",
       "196                 W.I. Simonson Inc.    4.5    (773 reviews)  $40,999  \n",
       "197      Mercedes-Benz of Chesterfield    4.4     (98 reviews)  $96,811  \n",
       "198         Mercedes-Benz of Rochester    2.5      (3 reviews)  $56,790  \n",
       "199  Baker Motor Company of Charleston    3.9    (200 reviews)  $76,498  \n",
       "\n",
       "[200 rows x 6 columns]"
      ]
     },
     "execution_count": 23,
     "metadata": {},
     "output_type": "execute_result"
    }
   ],
   "source": [
    "car_dealer"
   ]
  },
  {
   "cell_type": "code",
   "execution_count": 24,
   "metadata": {
    "id": "bGCAZ6aPc_4w"
   },
   "outputs": [],
   "source": [
    "car_dealer['Review Count'] = car_dealer['Review Count'].apply(lambda x: x.strip('reviews)').strip('('))"
   ]
  },
  {
   "cell_type": "code",
   "execution_count": 25,
   "metadata": {
    "colab": {
     "base_uri": "https://localhost:8080/",
     "height": 424
    },
    "id": "17dmLfEZc_4w",
    "outputId": "51c38a35-9218-4ba7-f0b5-0e7b5a5f9b6d"
   },
   "outputs": [
    {
     "data": {
      "text/html": [
       "\n",
       "  <div id=\"df-931c300d-2ff9-4805-8471-b08d8101c4eb\">\n",
       "    <div class=\"colab-df-container\">\n",
       "      <div>\n",
       "<style scoped>\n",
       "    .dataframe tbody tr th:only-of-type {\n",
       "        vertical-align: middle;\n",
       "    }\n",
       "\n",
       "    .dataframe tbody tr th {\n",
       "        vertical-align: top;\n",
       "    }\n",
       "\n",
       "    .dataframe thead th {\n",
       "        text-align: right;\n",
       "    }\n",
       "</style>\n",
       "<table border=\"1\" class=\"dataframe\">\n",
       "  <thead>\n",
       "    <tr style=\"text-align: right;\">\n",
       "      <th></th>\n",
       "      <th>Name</th>\n",
       "      <th>Mileage</th>\n",
       "      <th>Dealer Name</th>\n",
       "      <th>Rating</th>\n",
       "      <th>Review Count</th>\n",
       "      <th>Price</th>\n",
       "    </tr>\n",
       "  </thead>\n",
       "  <tbody>\n",
       "    <tr>\n",
       "      <th>0</th>\n",
       "      <td>2019 Mercedes-Benz C-Class C 300</td>\n",
       "      <td>15,174 mi.</td>\n",
       "      <td>Mercedes-Benz of San Jose</td>\n",
       "      <td>4.6</td>\n",
       "      <td>599</td>\n",
       "      <td>$34,952</td>\n",
       "    </tr>\n",
       "    <tr>\n",
       "      <th>1</th>\n",
       "      <td>2020 Mercedes-Benz GLE 450 AWD 4MATIC</td>\n",
       "      <td>35,245 mi.</td>\n",
       "      <td>Mercedes-Benz of Plano</td>\n",
       "      <td>4.5</td>\n",
       "      <td>1,222</td>\n",
       "      <td>$69,955</td>\n",
       "    </tr>\n",
       "    <tr>\n",
       "      <th>2</th>\n",
       "      <td>2020 Mercedes-Benz GLE 350 Base 4MATIC</td>\n",
       "      <td>39,176 mi.</td>\n",
       "      <td>Mercedes-Benz of Easton</td>\n",
       "      <td>4.7</td>\n",
       "      <td>667</td>\n",
       "      <td>$57,493</td>\n",
       "    </tr>\n",
       "    <tr>\n",
       "      <th>3</th>\n",
       "      <td>2019 Mercedes-Benz AMG GLE 43 4MATIC Coupe</td>\n",
       "      <td>33,825 mi.</td>\n",
       "      <td>Mercedes-Benz of Plano</td>\n",
       "      <td>4.5</td>\n",
       "      <td>1,222</td>\n",
       "      <td>$71,955</td>\n",
       "    </tr>\n",
       "    <tr>\n",
       "      <th>4</th>\n",
       "      <td>2021 Mercedes-Benz GLC 300 Base 4MATIC</td>\n",
       "      <td>11,386 mi.</td>\n",
       "      <td>Mercedes-Benz of Burlington</td>\n",
       "      <td>4.7</td>\n",
       "      <td>261</td>\n",
       "      <td>$50,491</td>\n",
       "    </tr>\n",
       "    <tr>\n",
       "      <th>...</th>\n",
       "      <td>...</td>\n",
       "      <td>...</td>\n",
       "      <td>...</td>\n",
       "      <td>...</td>\n",
       "      <td>...</td>\n",
       "      <td>...</td>\n",
       "    </tr>\n",
       "    <tr>\n",
       "      <th>195</th>\n",
       "      <td>2019 Mercedes-Benz CLA 250 Base</td>\n",
       "      <td>11,042 mi.</td>\n",
       "      <td>Jackie Cooper Imports</td>\n",
       "      <td>4.9</td>\n",
       "      <td>3,278</td>\n",
       "      <td>$34,900</td>\n",
       "    </tr>\n",
       "    <tr>\n",
       "      <th>196</th>\n",
       "      <td>2021 Mercedes-Benz C-Class C 300</td>\n",
       "      <td>1,730 mi.</td>\n",
       "      <td>W.I. Simonson Inc.</td>\n",
       "      <td>4.5</td>\n",
       "      <td>773</td>\n",
       "      <td>$40,999</td>\n",
       "    </tr>\n",
       "    <tr>\n",
       "      <th>197</th>\n",
       "      <td>2021 Mercedes-Benz GLE 580 AWD 4MATIC</td>\n",
       "      <td>3,553 mi.</td>\n",
       "      <td>Mercedes-Benz of Chesterfield</td>\n",
       "      <td>4.4</td>\n",
       "      <td>98</td>\n",
       "      <td>$96,811</td>\n",
       "    </tr>\n",
       "    <tr>\n",
       "      <th>198</th>\n",
       "      <td>2019 Mercedes-Benz C-Class C 300 4MATIC</td>\n",
       "      <td>15,437 mi.</td>\n",
       "      <td>Mercedes-Benz of Rochester</td>\n",
       "      <td>2.5</td>\n",
       "      <td>3</td>\n",
       "      <td>$56,790</td>\n",
       "    </tr>\n",
       "    <tr>\n",
       "      <th>199</th>\n",
       "      <td>2021 Mercedes-Benz AMG GLC 43 Base 4MATIC</td>\n",
       "      <td>12,565 mi.</td>\n",
       "      <td>Baker Motor Company of Charleston</td>\n",
       "      <td>3.9</td>\n",
       "      <td>200</td>\n",
       "      <td>$76,498</td>\n",
       "    </tr>\n",
       "  </tbody>\n",
       "</table>\n",
       "<p>200 rows × 6 columns</p>\n",
       "</div>\n",
       "      <button class=\"colab-df-convert\" onclick=\"convertToInteractive('df-931c300d-2ff9-4805-8471-b08d8101c4eb')\"\n",
       "              title=\"Convert this dataframe to an interactive table.\"\n",
       "              style=\"display:none;\">\n",
       "        \n",
       "  <svg xmlns=\"http://www.w3.org/2000/svg\" height=\"24px\"viewBox=\"0 0 24 24\"\n",
       "       width=\"24px\">\n",
       "    <path d=\"M0 0h24v24H0V0z\" fill=\"none\"/>\n",
       "    <path d=\"M18.56 5.44l.94 2.06.94-2.06 2.06-.94-2.06-.94-.94-2.06-.94 2.06-2.06.94zm-11 1L8.5 8.5l.94-2.06 2.06-.94-2.06-.94L8.5 2.5l-.94 2.06-2.06.94zm10 10l.94 2.06.94-2.06 2.06-.94-2.06-.94-.94-2.06-.94 2.06-2.06.94z\"/><path d=\"M17.41 7.96l-1.37-1.37c-.4-.4-.92-.59-1.43-.59-.52 0-1.04.2-1.43.59L10.3 9.45l-7.72 7.72c-.78.78-.78 2.05 0 2.83L4 21.41c.39.39.9.59 1.41.59.51 0 1.02-.2 1.41-.59l7.78-7.78 2.81-2.81c.8-.78.8-2.07 0-2.86zM5.41 20L4 18.59l7.72-7.72 1.47 1.35L5.41 20z\"/>\n",
       "  </svg>\n",
       "      </button>\n",
       "      \n",
       "  <style>\n",
       "    .colab-df-container {\n",
       "      display:flex;\n",
       "      flex-wrap:wrap;\n",
       "      gap: 12px;\n",
       "    }\n",
       "\n",
       "    .colab-df-convert {\n",
       "      background-color: #E8F0FE;\n",
       "      border: none;\n",
       "      border-radius: 50%;\n",
       "      cursor: pointer;\n",
       "      display: none;\n",
       "      fill: #1967D2;\n",
       "      height: 32px;\n",
       "      padding: 0 0 0 0;\n",
       "      width: 32px;\n",
       "    }\n",
       "\n",
       "    .colab-df-convert:hover {\n",
       "      background-color: #E2EBFA;\n",
       "      box-shadow: 0px 1px 2px rgba(60, 64, 67, 0.3), 0px 1px 3px 1px rgba(60, 64, 67, 0.15);\n",
       "      fill: #174EA6;\n",
       "    }\n",
       "\n",
       "    [theme=dark] .colab-df-convert {\n",
       "      background-color: #3B4455;\n",
       "      fill: #D2E3FC;\n",
       "    }\n",
       "\n",
       "    [theme=dark] .colab-df-convert:hover {\n",
       "      background-color: #434B5C;\n",
       "      box-shadow: 0px 1px 3px 1px rgba(0, 0, 0, 0.15);\n",
       "      filter: drop-shadow(0px 1px 2px rgba(0, 0, 0, 0.3));\n",
       "      fill: #FFFFFF;\n",
       "    }\n",
       "  </style>\n",
       "\n",
       "      <script>\n",
       "        const buttonEl =\n",
       "          document.querySelector('#df-931c300d-2ff9-4805-8471-b08d8101c4eb button.colab-df-convert');\n",
       "        buttonEl.style.display =\n",
       "          google.colab.kernel.accessAllowed ? 'block' : 'none';\n",
       "\n",
       "        async function convertToInteractive(key) {\n",
       "          const element = document.querySelector('#df-931c300d-2ff9-4805-8471-b08d8101c4eb');\n",
       "          const dataTable =\n",
       "            await google.colab.kernel.invokeFunction('convertToInteractive',\n",
       "                                                     [key], {});\n",
       "          if (!dataTable) return;\n",
       "\n",
       "          const docLinkHtml = 'Like what you see? Visit the ' +\n",
       "            '<a target=\"_blank\" href=https://colab.research.google.com/notebooks/data_table.ipynb>data table notebook</a>'\n",
       "            + ' to learn more about interactive tables.';\n",
       "          element.innerHTML = '';\n",
       "          dataTable['output_type'] = 'display_data';\n",
       "          await google.colab.output.renderOutput(dataTable, element);\n",
       "          const docLink = document.createElement('div');\n",
       "          docLink.innerHTML = docLinkHtml;\n",
       "          element.appendChild(docLink);\n",
       "        }\n",
       "      </script>\n",
       "    </div>\n",
       "  </div>\n",
       "  "
      ],
      "text/plain": [
       "                                           Name     Mileage  \\\n",
       "0              2019 Mercedes-Benz C-Class C 300  15,174 mi.   \n",
       "1         2020 Mercedes-Benz GLE 450 AWD 4MATIC  35,245 mi.   \n",
       "2        2020 Mercedes-Benz GLE 350 Base 4MATIC  39,176 mi.   \n",
       "3    2019 Mercedes-Benz AMG GLE 43 4MATIC Coupe  33,825 mi.   \n",
       "4        2021 Mercedes-Benz GLC 300 Base 4MATIC  11,386 mi.   \n",
       "..                                          ...         ...   \n",
       "195             2019 Mercedes-Benz CLA 250 Base  11,042 mi.   \n",
       "196            2021 Mercedes-Benz C-Class C 300   1,730 mi.   \n",
       "197       2021 Mercedes-Benz GLE 580 AWD 4MATIC   3,553 mi.   \n",
       "198     2019 Mercedes-Benz C-Class C 300 4MATIC  15,437 mi.   \n",
       "199   2021 Mercedes-Benz AMG GLC 43 Base 4MATIC  12,565 mi.   \n",
       "\n",
       "                           Dealer Name Rating Review Count    Price  \n",
       "0            Mercedes-Benz of San Jose    4.6         599   $34,952  \n",
       "1               Mercedes-Benz of Plano    4.5       1,222   $69,955  \n",
       "2              Mercedes-Benz of Easton    4.7         667   $57,493  \n",
       "3               Mercedes-Benz of Plano    4.5       1,222   $71,955  \n",
       "4          Mercedes-Benz of Burlington    4.7         261   $50,491  \n",
       "..                                 ...    ...          ...      ...  \n",
       "195              Jackie Cooper Imports    4.9       3,278   $34,900  \n",
       "196                 W.I. Simonson Inc.    4.5         773   $40,999  \n",
       "197      Mercedes-Benz of Chesterfield    4.4          98   $96,811  \n",
       "198         Mercedes-Benz of Rochester    2.5           3   $56,790  \n",
       "199  Baker Motor Company of Charleston    3.9         200   $76,498  \n",
       "\n",
       "[200 rows x 6 columns]"
      ]
     },
     "execution_count": 25,
     "metadata": {},
     "output_type": "execute_result"
    }
   ],
   "source": [
    "car_dealer"
   ]
  },
  {
   "cell_type": "code",
   "execution_count": null,
   "metadata": {
    "id": "EJ33tbBrefpm"
   },
   "outputs": [],
   "source": []
  }
 ],
 "metadata": {
  "colab": {
   "collapsed_sections": [],
   "include_colab_link": true,
   "name": "Web Scraping a Car Dealer Website.ipynb",
   "provenance": []
  },
  "kernelspec": {
   "display_name": "Python 3",
   "language": "python",
   "name": "python3"
  },
  "language_info": {
   "codemirror_mode": {
    "name": "ipython",
    "version": 3
   },
   "file_extension": ".py",
   "mimetype": "text/x-python",
   "name": "python",
   "nbconvert_exporter": "python",
   "pygments_lexer": "ipython3",
   "version": "3.9.2"
  }
 },
 "nbformat": 4,
 "nbformat_minor": 0
}
